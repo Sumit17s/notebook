{
 "cells": [
  {
   "cell_type": "markdown",
   "id": "3bc99a67",
   "metadata": {},
   "source": [
    "# Data Science tools and Ecosystem"
   ]
  },
  {
   "cell_type": "markdown",
   "id": "9c5c5caf",
   "metadata": {},
   "source": [
    "In this notebook, Data Science Tools and Ecosystem are Sumarized."
   ]
  },
  {
   "cell_type": "markdown",
   "id": "4e6eb122",
   "metadata": {},
   "source": [
    "Some of the Data Science languages are\n",
    "\n",
    "1.Python\n",
    "\n",
    "2.SQL\n",
    "\n",
    "3.C++\n",
    "\n",
    "4.Java etc.\n"
   ]
  },
  {
   "cell_type": "markdown",
   "id": "7d6f90ff",
   "metadata": {},
   "source": [
    "Some of the commonly used libraries used by Data Scienctists include:\n",
    "\n",
    "1.NumPy.\n",
    "\n",
    "2.TensorFlow.\n",
    "\n",
    "3.SciPy.\n",
    "\n",
    "4.Pandas.\n",
    "\n",
    "5.Matplotlib."
   ]
  },
  {
   "cell_type": "markdown",
   "id": "497825c7",
   "metadata": {},
   "source": [
    "|Data Science Tools|\n",
    "|---|\n",
    "|SAS|\n",
    "|Apache Hadoop|\n",
    "|TensorFlow|"
   ]
  },
  {
   "cell_type": "markdown",
   "id": "3dc92c1a",
   "metadata": {},
   "source": [
    "### Below are examples of evaluating arithmetic expression in Python."
   ]
  },
  {
   "cell_type": "code",
   "execution_count": 1,
   "id": "09dd15fc",
   "metadata": {},
   "outputs": [
    {
     "data": {
      "text/plain": [
       "25"
      ]
     },
     "execution_count": 1,
     "metadata": {},
     "output_type": "execute_result"
    }
   ],
   "source": [
    "#This is a common arithmetic example to multiply and then add integers\n",
    "(2*5)+15"
   ]
  },
  {
   "cell_type": "code",
   "execution_count": 2,
   "id": "af1033f7",
   "metadata": {},
   "outputs": [
    {
     "data": {
      "text/plain": [
       "5.0"
      ]
     },
     "execution_count": 2,
     "metadata": {},
     "output_type": "execute_result"
    }
   ],
   "source": [
    "#Convert minutes into Hours by dividing by 60\n",
    "300/60\n"
   ]
  },
  {
   "cell_type": "markdown",
   "id": "c31fb1b4",
   "metadata": {},
   "source": [
    "__Objectives__\n",
    "* How to provide comments in the cell\n",
    "* List popular languages in Data Science\n",
    "* List popular libraries in Data Science\n",
    "* List of Data Scince Tools"
   ]
  },
  {
   "cell_type": "markdown",
   "id": "8597be11",
   "metadata": {},
   "source": [
    "### Author\n",
    "Sumit Pachupate"
   ]
  }
 ],
 "metadata": {
  "kernelspec": {
   "display_name": "Python 3 (ipykernel)",
   "language": "python",
   "name": "python3"
  },
  "language_info": {
   "codemirror_mode": {
    "name": "ipython",
    "version": 3
   },
   "file_extension": ".py",
   "mimetype": "text/x-python",
   "name": "python",
   "nbconvert_exporter": "python",
   "pygments_lexer": "ipython3",
   "version": "3.9.7"
  }
 },
 "nbformat": 4,
 "nbformat_minor": 5
}
